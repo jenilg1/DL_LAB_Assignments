{
  "nbformat": 4,
  "nbformat_minor": 0,
  "metadata": {
    "colab": {
      "name": "PracticalExam_DeepLearning.ipynb",
      "provenance": [],
      "collapsed_sections": []
    },
    "kernelspec": {
      "name": "python3",
      "display_name": "Python 3"
    },
    "accelerator": "GPU"
  },
  "cells": [
    {
      "cell_type": "markdown",
      "metadata": {
        "id": "RDlkIfca5yCx",
        "colab_type": "text"
      },
      "source": [
        "# Deep Learning Practical Exam (Test 1)\n",
        "\n",
        "#Jenil Gathani (J061) \n",
        "\n",
        "#B.tech Data Science 3rd Year"
      ]
    },
    {
      "cell_type": "code",
      "metadata": {
        "id": "ICY2fMvCwAdG",
        "colab_type": "code",
        "colab": {}
      },
      "source": [
        "from keras import models\n",
        "from keras.layers import Dense, Dropout\n",
        "from keras.utils import to_categorical\n",
        "from keras.datasets import mnist\n",
        "from keras.utils.vis_utils import model_to_dot\n",
        "from IPython.display import SVG\n",
        "from sklearn.model_selection import GridSearchCV"
      ],
      "execution_count": 0,
      "outputs": []
    },
    {
      "cell_type": "code",
      "metadata": {
        "id": "ZHBuLA1SwAhe",
        "colab_type": "code",
        "colab": {}
      },
      "source": [
        "NUM_ROWS = 28\n",
        "NUM_COLS = 28\n",
        "NUM_CLASSES = 10\n",
        "BATCH_SIZE = 128\n",
        "EPOCHS = 10"
      ],
      "execution_count": 0,
      "outputs": []
    },
    {
      "cell_type": "code",
      "metadata": {
        "id": "q6txUmLbwAj1",
        "colab_type": "code",
        "colab": {}
      },
      "source": [
        "# Load data\n",
        "(X_train, y_train), (X_test, y_test) = mnist.load_data()"
      ],
      "execution_count": 0,
      "outputs": []
    },
    {
      "cell_type": "code",
      "metadata": {
        "id": "cReAREBNwAmd",
        "colab_type": "code",
        "colab": {}
      },
      "source": [
        "# Reshape data\n",
        "X_train = X_train.reshape((X_train.shape[0], NUM_ROWS * NUM_COLS))\n",
        "X_train = X_train.astype('float32') / 255\n",
        "X_test = X_test.reshape((X_test.shape[0], NUM_ROWS * NUM_COLS))\n",
        "X_test = X_test.astype('float32') / 255"
      ],
      "execution_count": 0,
      "outputs": []
    },
    {
      "cell_type": "code",
      "metadata": {
        "id": "aQ8SKc4twAq-",
        "colab_type": "code",
        "colab": {}
      },
      "source": [
        "# Categorically encode labels\n",
        "y_train = to_categorical(y_train, NUM_CLASSES)\n",
        "y_test = to_categorical(y_test, NUM_CLASSES)"
      ],
      "execution_count": 0,
      "outputs": []
    },
    {
      "cell_type": "code",
      "metadata": {
        "id": "7M1deBZIwAov",
        "colab_type": "code",
        "colab": {
          "base_uri": "https://localhost:8080/",
          "height": 34
        },
        "outputId": "7f714e4d-dbde-40c2-a9a5-932e0eedbac5"
      },
      "source": [
        "print(X_train.shape,X_test.shape,y_train.shape,y_test.shape)"
      ],
      "execution_count": 50,
      "outputs": [
        {
          "output_type": "stream",
          "text": [
            "(60000, 784) (10000, 784) (60000, 10) (10000, 10)\n"
          ],
          "name": "stdout"
        }
      ]
    },
    {
      "cell_type": "code",
      "metadata": {
        "id": "vjRpx7J-wAtT",
        "colab_type": "code",
        "colab": {}
      },
      "source": [
        "# Build neural network\n",
        "model = models.Sequential()\n",
        "model.add(Dense(512, activation='relu', input_shape=(NUM_ROWS * NUM_COLS,)))\n",
        "model.add(Dense(256, activation='relu'))\n",
        "model.add(Dense(10, activation='softmax'))"
      ],
      "execution_count": 0,
      "outputs": []
    },
    {
      "cell_type": "code",
      "metadata": {
        "id": "0YCk_p2pwAvi",
        "colab_type": "code",
        "colab": {}
      },
      "source": [
        "# Compile model\n",
        "model.compile(optimizer='rmsprop',\n",
        "              loss='categorical_crossentropy',\n",
        "              metrics=['accuracy'])\n"
      ],
      "execution_count": 0,
      "outputs": []
    },
    {
      "cell_type": "code",
      "metadata": {
        "id": "i6imNhoZwAx2",
        "colab_type": "code",
        "colab": {
          "base_uri": "https://localhost:8080/",
          "height": 386
        },
        "outputId": "a5a8a24e-1ec2-4328-a74f-3e6153d8b41d"
      },
      "source": [
        "# Train model\n",
        "model.fit(X_train, y_train,\n",
        "          batch_size=BATCH_SIZE,\n",
        "          epochs=EPOCHS,\n",
        "          verbose=1,\n",
        "          validation_data=(X_test, y_test))"
      ],
      "execution_count": 53,
      "outputs": [
        {
          "output_type": "stream",
          "text": [
            "Train on 60000 samples, validate on 10000 samples\n",
            "Epoch 1/10\n",
            "60000/60000 [==============================] - 2s 41us/step - loss: 0.2284 - acc: 0.9298 - val_loss: 0.1035 - val_acc: 0.9675\n",
            "Epoch 2/10\n",
            "60000/60000 [==============================] - 2s 31us/step - loss: 0.0834 - acc: 0.9741 - val_loss: 0.0903 - val_acc: 0.9703\n",
            "Epoch 3/10\n",
            "60000/60000 [==============================] - 2s 32us/step - loss: 0.0557 - acc: 0.9831 - val_loss: 0.0922 - val_acc: 0.9739\n",
            "Epoch 4/10\n",
            "60000/60000 [==============================] - 2s 33us/step - loss: 0.0396 - acc: 0.9879 - val_loss: 0.0717 - val_acc: 0.9810\n",
            "Epoch 5/10\n",
            "60000/60000 [==============================] - 2s 31us/step - loss: 0.0304 - acc: 0.9905 - val_loss: 0.0734 - val_acc: 0.9805\n",
            "Epoch 6/10\n",
            "60000/60000 [==============================] - 2s 31us/step - loss: 0.0231 - acc: 0.9927 - val_loss: 0.0799 - val_acc: 0.9818\n",
            "Epoch 7/10\n",
            "60000/60000 [==============================] - 2s 28us/step - loss: 0.0176 - acc: 0.9948 - val_loss: 0.1081 - val_acc: 0.9763\n",
            "Epoch 8/10\n",
            "60000/60000 [==============================] - 2s 29us/step - loss: 0.0153 - acc: 0.9953 - val_loss: 0.0883 - val_acc: 0.9815\n",
            "Epoch 9/10\n",
            "60000/60000 [==============================] - 2s 30us/step - loss: 0.0122 - acc: 0.9961 - val_loss: 0.0923 - val_acc: 0.9810\n",
            "Epoch 10/10\n",
            "60000/60000 [==============================] - 2s 33us/step - loss: 0.0109 - acc: 0.9966 - val_loss: 0.0940 - val_acc: 0.9815\n"
          ],
          "name": "stdout"
        },
        {
          "output_type": "execute_result",
          "data": {
            "text/plain": [
              "<keras.callbacks.History at 0x7fb082167390>"
            ]
          },
          "metadata": {
            "tags": []
          },
          "execution_count": 53
        }
      ]
    },
    {
      "cell_type": "code",
      "metadata": {
        "id": "yVoLWBVgxUbq",
        "colab_type": "code",
        "colab": {
          "base_uri": "https://localhost:8080/",
          "height": 50
        },
        "outputId": "adcf252f-6ba7-4eb8-f8e4-61cf6f1df46a"
      },
      "source": [
        "score = model.evaluate(X_test, y_test, verbose=0)\n",
        "print('Test loss:', score[0])\n",
        "print('Test accuracy:', score[1])"
      ],
      "execution_count": 54,
      "outputs": [
        {
          "output_type": "stream",
          "text": [
            "Test loss: 0.09398262414779983\n",
            "Test accuracy: 0.9815\n"
          ],
          "name": "stdout"
        }
      ]
    },
    {
      "cell_type": "code",
      "metadata": {
        "id": "Wl7kNiE91I5f",
        "colab_type": "code",
        "colab": {}
      },
      "source": [
        "import keras\n",
        "from keras import optimizers\n",
        "sgd= keras.optimizers.SGD(lr=0.01, momentum=0.0, nesterov=False)"
      ],
      "execution_count": 0,
      "outputs": []
    },
    {
      "cell_type": "code",
      "metadata": {
        "id": "mDw4NpKQ0wqV",
        "colab_type": "code",
        "colab": {
          "base_uri": "https://localhost:8080/",
          "height": 403
        },
        "outputId": "0be2abaa-cbae-4e2c-c6f3-35be889cfa4b"
      },
      "source": [
        "# Compile model using above optimizer\n",
        "model.compile(optimizer=sgd,\n",
        "              loss='categorical_crossentropy',\n",
        "              metrics=['accuracy'])\n",
        "\n",
        "# Train model\n",
        "model.fit(X_train, y_train,\n",
        "          batch_size=BATCH_SIZE,\n",
        "          epochs=EPOCHS,\n",
        "          verbose=1,\n",
        "          validation_data=(X_test, y_test))\n",
        "\n",
        "score = model.evaluate(X_test, y_test, verbose=0)\n",
        "print('Test loss:', score[0])\n",
        "print('Test accuracy:', score[1])"
      ],
      "execution_count": 56,
      "outputs": [
        {
          "output_type": "stream",
          "text": [
            "Train on 60000 samples, validate on 10000 samples\n",
            "Epoch 1/10\n",
            "60000/60000 [==============================] - 2s 39us/step - loss: 0.0039 - acc: 0.9988 - val_loss: 0.0857 - val_acc: 0.9837\n",
            "Epoch 2/10\n",
            "60000/60000 [==============================] - 2s 27us/step - loss: 0.0025 - acc: 0.9994 - val_loss: 0.0845 - val_acc: 0.9837\n",
            "Epoch 3/10\n",
            "60000/60000 [==============================] - 2s 27us/step - loss: 0.0020 - acc: 0.9996 - val_loss: 0.0838 - val_acc: 0.9836\n",
            "Epoch 4/10\n",
            "60000/60000 [==============================] - 2s 29us/step - loss: 0.0018 - acc: 0.9997 - val_loss: 0.0835 - val_acc: 0.9833\n",
            "Epoch 5/10\n",
            "60000/60000 [==============================] - 2s 29us/step - loss: 0.0016 - acc: 0.9998 - val_loss: 0.0832 - val_acc: 0.9833\n",
            "Epoch 6/10\n",
            "60000/60000 [==============================] - 2s 28us/step - loss: 0.0015 - acc: 0.9998 - val_loss: 0.0829 - val_acc: 0.9835\n",
            "Epoch 7/10\n",
            "60000/60000 [==============================] - 2s 27us/step - loss: 0.0014 - acc: 0.9999 - val_loss: 0.0828 - val_acc: 0.9834\n",
            "Epoch 8/10\n",
            "60000/60000 [==============================] - 2s 27us/step - loss: 0.0014 - acc: 0.9999 - val_loss: 0.0826 - val_acc: 0.9834\n",
            "Epoch 9/10\n",
            "60000/60000 [==============================] - 2s 28us/step - loss: 0.0013 - acc: 0.9999 - val_loss: 0.0825 - val_acc: 0.9833\n",
            "Epoch 10/10\n",
            "60000/60000 [==============================] - 2s 27us/step - loss: 0.0012 - acc: 0.9999 - val_loss: 0.0824 - val_acc: 0.9834\n",
            "Test loss: 0.08242800025556246\n",
            "Test accuracy: 0.9834\n"
          ],
          "name": "stdout"
        }
      ]
    },
    {
      "cell_type": "code",
      "metadata": {
        "id": "s-zuQoNc0wn9",
        "colab_type": "code",
        "colab": {}
      },
      "source": [
        "rms=keras.optimizers.RMSprop(lr=0.001, rho=0.9)"
      ],
      "execution_count": 0,
      "outputs": []
    },
    {
      "cell_type": "code",
      "metadata": {
        "id": "iqXGhX570wls",
        "colab_type": "code",
        "colab": {
          "base_uri": "https://localhost:8080/",
          "height": 403
        },
        "outputId": "a5f73f37-96e8-4dde-9b4b-f58cac43abf0"
      },
      "source": [
        "# Compile model using above optimizer\n",
        "model.compile(optimizer=rms,\n",
        "              loss='categorical_crossentropy',\n",
        "              metrics=['accuracy'])\n",
        "\n",
        "# Train model\n",
        "model.fit(X_train, y_train,\n",
        "          batch_size=BATCH_SIZE,\n",
        "          epochs=EPOCHS,\n",
        "          verbose=1,\n",
        "          validation_data=(X_test, y_test))\n",
        "\n",
        "score = model.evaluate(X_test, y_test, verbose=0)\n",
        "print('Test loss:', score[0])\n",
        "print('Test accuracy:', score[1])"
      ],
      "execution_count": 58,
      "outputs": [
        {
          "output_type": "stream",
          "text": [
            "Train on 60000 samples, validate on 10000 samples\n",
            "Epoch 1/10\n",
            "60000/60000 [==============================] - 2s 42us/step - loss: 0.0095 - acc: 0.9970 - val_loss: 0.1006 - val_acc: 0.9830\n",
            "Epoch 2/10\n",
            "60000/60000 [==============================] - 2s 31us/step - loss: 0.0085 - acc: 0.9974 - val_loss: 0.1104 - val_acc: 0.9821\n",
            "Epoch 3/10\n",
            "60000/60000 [==============================] - 2s 29us/step - loss: 0.0074 - acc: 0.9978 - val_loss: 0.1147 - val_acc: 0.9837\n",
            "Epoch 4/10\n",
            "60000/60000 [==============================] - 2s 29us/step - loss: 0.0066 - acc: 0.9982 - val_loss: 0.1314 - val_acc: 0.9801\n",
            "Epoch 5/10\n",
            "60000/60000 [==============================] - 2s 30us/step - loss: 0.0056 - acc: 0.9983 - val_loss: 0.1360 - val_acc: 0.9809\n",
            "Epoch 6/10\n",
            "60000/60000 [==============================] - 2s 31us/step - loss: 0.0069 - acc: 0.9981 - val_loss: 0.1303 - val_acc: 0.9834\n",
            "Epoch 7/10\n",
            "60000/60000 [==============================] - 2s 31us/step - loss: 0.0051 - acc: 0.9986 - val_loss: 0.1256 - val_acc: 0.9836\n",
            "Epoch 8/10\n",
            "60000/60000 [==============================] - 2s 28us/step - loss: 0.0056 - acc: 0.9986 - val_loss: 0.1465 - val_acc: 0.9804\n",
            "Epoch 9/10\n",
            "60000/60000 [==============================] - 2s 29us/step - loss: 0.0053 - acc: 0.9985 - val_loss: 0.1416 - val_acc: 0.9809\n",
            "Epoch 10/10\n",
            "60000/60000 [==============================] - 2s 33us/step - loss: 0.0036 - acc: 0.9991 - val_loss: 0.1380 - val_acc: 0.9831\n",
            "Test loss: 0.1379930165573246\n",
            "Test accuracy: 0.9831\n"
          ],
          "name": "stdout"
        }
      ]
    },
    {
      "cell_type": "code",
      "metadata": {
        "id": "buNTGrFn0wjp",
        "colab_type": "code",
        "colab": {}
      },
      "source": [
        "ada=keras.optimizers.Adagrad(lr=0.01)"
      ],
      "execution_count": 0,
      "outputs": []
    },
    {
      "cell_type": "code",
      "metadata": {
        "id": "xxTM6Ogy0whD",
        "colab_type": "code",
        "colab": {
          "base_uri": "https://localhost:8080/",
          "height": 403
        },
        "outputId": "bf08333f-3cad-454c-8bed-56615388ecc0"
      },
      "source": [
        "# Compile model using above optimizer\n",
        "model.compile(optimizer=ada,\n",
        "              loss='categorical_crossentropy',\n",
        "              metrics=['accuracy'])\n",
        "\n",
        "# Train model\n",
        "model.fit(X_train, y_train,\n",
        "          batch_size=BATCH_SIZE,\n",
        "          epochs=EPOCHS,\n",
        "          verbose=1,\n",
        "          validation_data=(X_test, y_test))\n",
        "\n",
        "score = model.evaluate(X_test, y_test, verbose=0)\n",
        "print('Test loss:', score[0])\n",
        "print('Test accuracy:', score[1])"
      ],
      "execution_count": 60,
      "outputs": [
        {
          "output_type": "stream",
          "text": [
            "Train on 60000 samples, validate on 10000 samples\n",
            "Epoch 1/10\n",
            "60000/60000 [==============================] - 3s 43us/step - loss: 0.0266 - acc: 0.9960 - val_loss: 0.1229 - val_acc: 0.9834\n",
            "Epoch 2/10\n",
            "60000/60000 [==============================] - 2s 29us/step - loss: 8.9491e-04 - acc: 0.9999 - val_loss: 0.1192 - val_acc: 0.9834\n",
            "Epoch 3/10\n",
            "60000/60000 [==============================] - 2s 29us/step - loss: 6.8101e-04 - acc: 1.0000 - val_loss: 0.1145 - val_acc: 0.9840\n",
            "Epoch 4/10\n",
            "60000/60000 [==============================] - 2s 28us/step - loss: 5.6994e-04 - acc: 1.0000 - val_loss: 0.1142 - val_acc: 0.9843\n",
            "Epoch 5/10\n",
            "60000/60000 [==============================] - 2s 29us/step - loss: 5.6211e-04 - acc: 1.0000 - val_loss: 0.1144 - val_acc: 0.9843\n",
            "Epoch 6/10\n",
            "60000/60000 [==============================] - 2s 28us/step - loss: 5.5900e-04 - acc: 1.0000 - val_loss: 0.1146 - val_acc: 0.9842\n",
            "Epoch 7/10\n",
            "60000/60000 [==============================] - 2s 28us/step - loss: 5.5681e-04 - acc: 1.0000 - val_loss: 0.1148 - val_acc: 0.9842\n",
            "Epoch 8/10\n",
            "60000/60000 [==============================] - 2s 28us/step - loss: 5.5512e-04 - acc: 1.0000 - val_loss: 0.1150 - val_acc: 0.9841\n",
            "Epoch 9/10\n",
            "60000/60000 [==============================] - 2s 28us/step - loss: 5.5376e-04 - acc: 1.0000 - val_loss: 0.1152 - val_acc: 0.9840\n",
            "Epoch 10/10\n",
            "60000/60000 [==============================] - 2s 27us/step - loss: 5.5264e-04 - acc: 1.0000 - val_loss: 0.1154 - val_acc: 0.9841\n",
            "Test loss: 0.1153922005491035\n",
            "Test accuracy: 0.9841\n"
          ],
          "name": "stdout"
        }
      ]
    },
    {
      "cell_type": "code",
      "metadata": {
        "id": "ks667dAp0wcx",
        "colab_type": "code",
        "colab": {}
      },
      "source": [
        "adelta=keras.optimizers.Adadelta(lr=1.0, rho=0.95)"
      ],
      "execution_count": 0,
      "outputs": []
    },
    {
      "cell_type": "code",
      "metadata": {
        "id": "JdpADV410wZ5",
        "colab_type": "code",
        "colab": {
          "base_uri": "https://localhost:8080/",
          "height": 403
        },
        "outputId": "7a4c53dd-4a8d-4889-ea23-ee1467339cd8"
      },
      "source": [
        "# Compile model using above optimizer\n",
        "model.compile(optimizer=adelta,\n",
        "              loss='categorical_crossentropy',\n",
        "              metrics=['accuracy'])\n",
        "\n",
        "# Train model\n",
        "model.fit(X_train, y_train,\n",
        "          batch_size=BATCH_SIZE,\n",
        "          epochs=EPOCHS,\n",
        "          verbose=1,\n",
        "          validation_data=(X_test, y_test))\n",
        "\n",
        "score = model.evaluate(X_test, y_test, verbose=0)\n",
        "print('Test loss:', score[0])\n",
        "print('Test accuracy:', score[1])"
      ],
      "execution_count": 62,
      "outputs": [
        {
          "output_type": "stream",
          "text": [
            "Train on 60000 samples, validate on 10000 samples\n",
            "Epoch 1/10\n",
            "60000/60000 [==============================] - 3s 49us/step - loss: 5.5154e-04 - acc: 1.0000 - val_loss: 0.1156 - val_acc: 0.9840\n",
            "Epoch 2/10\n",
            "60000/60000 [==============================] - 2s 37us/step - loss: 5.4945e-04 - acc: 1.0000 - val_loss: 0.1162 - val_acc: 0.9841\n",
            "Epoch 3/10\n",
            "60000/60000 [==============================] - 2s 35us/step - loss: 5.4793e-04 - acc: 1.0000 - val_loss: 0.1166 - val_acc: 0.9840\n",
            "Epoch 4/10\n",
            "60000/60000 [==============================] - 2s 36us/step - loss: 5.4678e-04 - acc: 1.0000 - val_loss: 0.1169 - val_acc: 0.9840\n",
            "Epoch 5/10\n",
            "60000/60000 [==============================] - 2s 37us/step - loss: 5.4588e-04 - acc: 1.0000 - val_loss: 0.1171 - val_acc: 0.9840\n",
            "Epoch 6/10\n",
            "60000/60000 [==============================] - 2s 36us/step - loss: 5.4519e-04 - acc: 1.0000 - val_loss: 0.1174 - val_acc: 0.9840\n",
            "Epoch 7/10\n",
            "60000/60000 [==============================] - 2s 36us/step - loss: 5.4462e-04 - acc: 1.0000 - val_loss: 0.1176 - val_acc: 0.9840\n",
            "Epoch 8/10\n",
            "60000/60000 [==============================] - 2s 36us/step - loss: 5.4413e-04 - acc: 1.0000 - val_loss: 0.1179 - val_acc: 0.9840\n",
            "Epoch 9/10\n",
            "60000/60000 [==============================] - 2s 35us/step - loss: 5.4370e-04 - acc: 1.0000 - val_loss: 0.1181 - val_acc: 0.9840\n",
            "Epoch 10/10\n",
            "60000/60000 [==============================] - 2s 34us/step - loss: 5.4334e-04 - acc: 1.0000 - val_loss: 0.1182 - val_acc: 0.9840\n",
            "Test loss: 0.11824952451131705\n",
            "Test accuracy: 0.984\n"
          ],
          "name": "stdout"
        }
      ]
    },
    {
      "cell_type": "code",
      "metadata": {
        "id": "0TEVFR0s0wXD",
        "colab_type": "code",
        "colab": {}
      },
      "source": [
        "adam=keras.optimizers.Adam(lr=0.001, beta_1=0.9, beta_2=0.999, amsgrad=False)"
      ],
      "execution_count": 0,
      "outputs": []
    },
    {
      "cell_type": "code",
      "metadata": {
        "id": "GXmD4OMn2LuS",
        "colab_type": "code",
        "colab": {
          "base_uri": "https://localhost:8080/",
          "height": 403
        },
        "outputId": "aef1a392-40b0-4a25-e5cc-42da922d9d00"
      },
      "source": [
        "# Compile model using above optimizer\n",
        "model.compile(optimizer=adam,\n",
        "              loss='categorical_crossentropy',\n",
        "              metrics=['accuracy'])\n",
        "\n",
        "# Train model\n",
        "model.fit(X_train, y_train,\n",
        "          batch_size=BATCH_SIZE,\n",
        "          epochs=EPOCHS,\n",
        "          verbose=1,\n",
        "          validation_data=(X_test, y_test))\n",
        "\n",
        "score = model.evaluate(X_test, y_test, verbose=0)\n",
        "print('Test loss:', score[0])\n",
        "print('Test accuracy:', score[1])"
      ],
      "execution_count": 64,
      "outputs": [
        {
          "output_type": "stream",
          "text": [
            "Train on 60000 samples, validate on 10000 samples\n",
            "Epoch 1/10\n",
            "60000/60000 [==============================] - 3s 50us/step - loss: 0.0201 - acc: 0.9953 - val_loss: 0.1314 - val_acc: 0.9791\n",
            "Epoch 2/10\n",
            "60000/60000 [==============================] - 2s 33us/step - loss: 0.0133 - acc: 0.9962 - val_loss: 0.1247 - val_acc: 0.9812\n",
            "Epoch 3/10\n",
            "60000/60000 [==============================] - 2s 36us/step - loss: 0.0107 - acc: 0.9972 - val_loss: 0.1174 - val_acc: 0.9824\n",
            "Epoch 4/10\n",
            "60000/60000 [==============================] - 2s 33us/step - loss: 0.0137 - acc: 0.9962 - val_loss: 0.1206 - val_acc: 0.9790\n",
            "Epoch 5/10\n",
            "60000/60000 [==============================] - 2s 35us/step - loss: 0.0104 - acc: 0.9971 - val_loss: 0.1230 - val_acc: 0.9792\n",
            "Epoch 6/10\n",
            "60000/60000 [==============================] - 2s 33us/step - loss: 0.0079 - acc: 0.9978 - val_loss: 0.1008 - val_acc: 0.9829\n",
            "Epoch 7/10\n",
            "60000/60000 [==============================] - 2s 32us/step - loss: 0.0116 - acc: 0.9971 - val_loss: 0.1202 - val_acc: 0.9813\n",
            "Epoch 8/10\n",
            "60000/60000 [==============================] - 2s 33us/step - loss: 0.0095 - acc: 0.9973 - val_loss: 0.1080 - val_acc: 0.9817\n",
            "Epoch 9/10\n",
            "60000/60000 [==============================] - 2s 33us/step - loss: 0.0097 - acc: 0.9971 - val_loss: 0.1231 - val_acc: 0.9798\n",
            "Epoch 10/10\n",
            "60000/60000 [==============================] - 2s 35us/step - loss: 0.0102 - acc: 0.9973 - val_loss: 0.1238 - val_acc: 0.9805\n",
            "Test loss: 0.12383843698119067\n",
            "Test accuracy: 0.9805\n"
          ],
          "name": "stdout"
        }
      ]
    },
    {
      "cell_type": "code",
      "metadata": {
        "id": "wAl0bjzp2LrA",
        "colab_type": "code",
        "colab": {}
      },
      "source": [
        "adamax=keras.optimizers.Adamax(lr=0.002, beta_1=0.9, beta_2=0.999)"
      ],
      "execution_count": 0,
      "outputs": []
    },
    {
      "cell_type": "code",
      "metadata": {
        "id": "CyyC8OxN2Lo3",
        "colab_type": "code",
        "colab": {
          "base_uri": "https://localhost:8080/",
          "height": 739
        },
        "outputId": "abf70fdb-efdd-4c64-a20f-c4de99b45a97"
      },
      "source": [
        "# Compile model using above optimizer\n",
        "model.compile(optimizer=adamax,\n",
        "              loss='categorical_crossentropy',\n",
        "              metrics=['accuracy'])\n",
        "\n",
        "\n",
        "# Train model\n",
        "history = model.fit(X_train, y_train,\n",
        "          batch_size=BATCH_SIZE,\n",
        "          epochs=Epochs,\n",
        "          verbose=1,\n",
        "          validation_data=(X_test, y_test))\n",
        "\n",
        "score = model.evaluate(X_test, y_test, verbose=0)\n",
        "print('Test loss:', score[0])\n",
        "print('Test accuracy:', score[1])"
      ],
      "execution_count": 66,
      "outputs": [
        {
          "output_type": "stream",
          "text": [
            "Train on 60000 samples, validate on 10000 samples\n",
            "Epoch 1/20\n",
            "60000/60000 [==============================] - 3s 47us/step - loss: 0.0021 - acc: 0.9995 - val_loss: 0.1104 - val_acc: 0.9843\n",
            "Epoch 2/20\n",
            "60000/60000 [==============================] - 2s 31us/step - loss: 6.0581e-04 - acc: 1.0000 - val_loss: 0.1075 - val_acc: 0.9845\n",
            "Epoch 3/20\n",
            "60000/60000 [==============================] - 2s 32us/step - loss: 5.6234e-04 - acc: 1.0000 - val_loss: 0.1077 - val_acc: 0.9847\n",
            "Epoch 4/20\n",
            "60000/60000 [==============================] - 2s 30us/step - loss: 5.5303e-04 - acc: 1.0000 - val_loss: 0.1082 - val_acc: 0.9851\n",
            "Epoch 5/20\n",
            "60000/60000 [==============================] - 2s 31us/step - loss: 5.4813e-04 - acc: 1.0000 - val_loss: 0.1093 - val_acc: 0.9853\n",
            "Epoch 6/20\n",
            "60000/60000 [==============================] - 2s 33us/step - loss: 5.4469e-04 - acc: 1.0000 - val_loss: 0.1106 - val_acc: 0.9852\n",
            "Epoch 7/20\n",
            "60000/60000 [==============================] - 2s 29us/step - loss: 5.4237e-04 - acc: 1.0000 - val_loss: 0.1119 - val_acc: 0.9856\n",
            "Epoch 8/20\n",
            "60000/60000 [==============================] - 2s 32us/step - loss: 5.4069e-04 - acc: 1.0000 - val_loss: 0.1134 - val_acc: 0.9857\n",
            "Epoch 9/20\n",
            "60000/60000 [==============================] - 2s 33us/step - loss: 5.3957e-04 - acc: 1.0000 - val_loss: 0.1153 - val_acc: 0.9854\n",
            "Epoch 10/20\n",
            "60000/60000 [==============================] - 2s 32us/step - loss: 5.3878e-04 - acc: 1.0000 - val_loss: 0.1173 - val_acc: 0.9854\n",
            "Epoch 11/20\n",
            "60000/60000 [==============================] - 2s 33us/step - loss: 5.3826e-04 - acc: 1.0000 - val_loss: 0.1194 - val_acc: 0.9855\n",
            "Epoch 12/20\n",
            "60000/60000 [==============================] - 2s 32us/step - loss: 5.3795e-04 - acc: 1.0000 - val_loss: 0.1207 - val_acc: 0.9856\n",
            "Epoch 13/20\n",
            "60000/60000 [==============================] - 2s 33us/step - loss: 5.3774e-04 - acc: 1.0000 - val_loss: 0.1228 - val_acc: 0.9855\n",
            "Epoch 14/20\n",
            "60000/60000 [==============================] - 2s 31us/step - loss: 5.3761e-04 - acc: 1.0000 - val_loss: 0.1244 - val_acc: 0.9857\n",
            "Epoch 15/20\n",
            "60000/60000 [==============================] - 2s 32us/step - loss: 5.3753e-04 - acc: 1.0000 - val_loss: 0.1263 - val_acc: 0.9858\n",
            "Epoch 16/20\n",
            "60000/60000 [==============================] - 2s 30us/step - loss: 5.3748e-04 - acc: 1.0000 - val_loss: 0.1272 - val_acc: 0.9857\n",
            "Epoch 17/20\n",
            "60000/60000 [==============================] - 2s 32us/step - loss: 5.3744e-04 - acc: 1.0000 - val_loss: 0.1284 - val_acc: 0.9855\n",
            "Epoch 18/20\n",
            "60000/60000 [==============================] - 2s 33us/step - loss: 5.3742e-04 - acc: 1.0000 - val_loss: 0.1299 - val_acc: 0.9856\n",
            "Epoch 19/20\n",
            "60000/60000 [==============================] - 2s 30us/step - loss: 5.3741e-04 - acc: 1.0000 - val_loss: 0.1315 - val_acc: 0.9853\n",
            "Epoch 20/20\n",
            "60000/60000 [==============================] - 2s 33us/step - loss: 5.3740e-04 - acc: 1.0000 - val_loss: 0.1319 - val_acc: 0.9857\n",
            "Test loss: 0.13192461220173765\n",
            "Test accuracy: 0.9857\n"
          ],
          "name": "stdout"
        }
      ]
    },
    {
      "cell_type": "code",
      "metadata": {
        "id": "l9FAj8En2gWm",
        "colab_type": "code",
        "colab": {
          "base_uri": "https://localhost:8080/",
          "height": 573
        },
        "outputId": "22be987b-4dcc-4023-8a93-0a6a39e1c76a"
      },
      "source": [
        "import matplotlib.pyplot as plt\n",
        "# Plot training & validation accuracy values\n",
        "plt.plot(history.history['acc'])\n",
        "plt.plot(history.history['val_acc'])\n",
        "plt.title('Model accuracy')\n",
        "plt.ylabel('Accuracy')\n",
        "plt.xlabel('Epoch')\n",
        "plt.legend(['Train', 'Test'], loc='upper left')\n",
        "plt.show()\n",
        "\n",
        "# Plot training & validation loss values\n",
        "plt.plot(history.history['loss'])\n",
        "plt.plot(history.history['val_loss'])\n",
        "plt.title('Model loss')\n",
        "plt.ylabel('Loss')\n",
        "plt.xlabel('Epoch')\n",
        "plt.legend(['Train', 'Test'], loc='upper left')\n",
        "plt.show()"
      ],
      "execution_count": 67,
      "outputs": [
        {
          "output_type": "display_data",
          "data": {
            "image/png": "[encoded data removed]",
            "text/plain": [
              "<Figure size 432x288 with 1 Axes>"
            ]
          },
          "metadata": {
            "tags": []
          }
        },
        {
          "output_type": "display_data",
          "data": {
            "image/png": "[encoded data removed]",
            "text/plain": [
              "<Figure size 432x288 with 1 Axes>"
            ]
          },
          "metadata": {
            "tags": []
          }
        }
      ]
    },
    {
      "cell_type": "code",
      "metadata": {
        "id": "A3yRP6-n2gQY",
        "colab_type": "code",
        "colab": {
          "base_uri": "https://localhost:8080/",
          "height": 252
        },
        "outputId": "e4d52ea3-f046-43b2-bd0a-a6a3f35de47c"
      },
      "source": [
        "model.summary()"
      ],
      "execution_count": 68,
      "outputs": [
        {
          "output_type": "stream",
          "text": [
            "Model: \"sequential_2\"\n",
            "_________________________________________________________________\n",
            "Layer (type)                 Output Shape              Param #   \n",
            "=================================================================\n",
            "dense_4 (Dense)              (None, 512)               401920    \n",
            "_________________________________________________________________\n",
            "dense_5 (Dense)              (None, 256)               131328    \n",
            "_________________________________________________________________\n",
            "dense_6 (Dense)              (None, 10)                2570      \n",
            "=================================================================\n",
            "Total params: 535,818\n",
            "Trainable params: 535,818\n",
            "Non-trainable params: 0\n",
            "_________________________________________________________________\n"
          ],
          "name": "stdout"
        }
      ]
    },
    {
      "cell_type": "code",
      "metadata": {
        "id": "P7ww3nvK2gN2",
        "colab_type": "code",
        "colab": {
          "base_uri": "https://localhost:8080/",
          "height": 490
        },
        "outputId": "f39c378b-a59f-4d5a-b21e-8f0d53b5bb22"
      },
      "source": [
        "# Output network visualization\n",
        "SVG(model_to_dot(model).create(prog='dot', format='svg'))"
      ],
      "execution_count": 69,
      "outputs": [
        {
          "output_type": "execute_result",
          "data": {
            "text/plain": [
              "<IPython.core.display.SVG object>"
            ],
            "image/svg+xml": "<svg height=\"352pt\" viewBox=\"0.00 0.00 181.00 264.00\" width=\"241pt\" xmlns=\"http://www.w3.org/2000/svg\" xmlns:xlink=\"http://www.w3.org/1999/xlink\">\n<g class=\"graph\" id=\"graph0\" transform=\"scale(1.3333 1.3333) rotate(0) translate(4 260)\">\n<title>G</title>\n<polygon fill=\"#ffffff\" points=\"-4,4 -4,-260 177,-260 177,4 -4,4\" stroke=\"transparent\"/>\n<!-- 140396073727928 -->\n<g class=\"node\" id=\"node1\">\n<title>140396073727928</title>\n<polygon fill=\"none\" points=\"0,-219.5 0,-255.5 173,-255.5 173,-219.5 0,-219.5\" stroke=\"#000000\"/>\n<text fill=\"#000000\" font-family=\"Times,serif\" font-size=\"14.00\" text-anchor=\"middle\" x=\"86.5\" y=\"-233.8\">dense_4_input: InputLayer</text>\n</g>\n<!-- 140396073728544 -->\n<g class=\"node\" id=\"node2\">\n<title>140396073728544</title>\n<polygon fill=\"none\" points=\"33,-146.5 33,-182.5 140,-182.5 140,-146.5 33,-146.5\" stroke=\"#000000\"/>\n<text fill=\"#000000\" font-family=\"Times,serif\" font-size=\"14.00\" text-anchor=\"middle\" x=\"86.5\" y=\"-160.8\">dense_4: Dense</text>\n</g>\n<!-- 140396073727928&#45;&gt;140396073728544 -->\n<g class=\"edge\" id=\"edge1\">\n<title>140396073727928-&gt;140396073728544</title>\n<path d=\"M86.5,-219.4551C86.5,-211.3828 86.5,-201.6764 86.5,-192.6817\" fill=\"none\" stroke=\"#000000\"/>\n<polygon fill=\"#000000\" points=\"90.0001,-192.5903 86.5,-182.5904 83.0001,-192.5904 90.0001,-192.5903\" stroke=\"#000000\"/>\n</g>\n<!-- 140396073728208 -->\n<g class=\"node\" id=\"node3\">\n<title>140396073728208</title>\n<polygon fill=\"none\" points=\"33,-73.5 33,-109.5 140,-109.5 140,-73.5 33,-73.5\" stroke=\"#000000\"/>\n<text fill=\"#000000\" font-family=\"Times,serif\" font-size=\"14.00\" text-anchor=\"middle\" x=\"86.5\" y=\"-87.8\">dense_5: Dense</text>\n</g>\n<!-- 140396073728544&#45;&gt;140396073728208 -->\n<g class=\"edge\" id=\"edge2\">\n<title>140396073728544-&gt;140396073728208</title>\n<path d=\"M86.5,-146.4551C86.5,-138.3828 86.5,-128.6764 86.5,-119.6817\" fill=\"none\" stroke=\"#000000\"/>\n<polygon fill=\"#000000\" points=\"90.0001,-119.5903 86.5,-109.5904 83.0001,-119.5904 90.0001,-119.5903\" stroke=\"#000000\"/>\n</g>\n<!-- 140396073782912 -->\n<g class=\"node\" id=\"node4\">\n<title>140396073782912</title>\n<polygon fill=\"none\" points=\"33,-.5 33,-36.5 140,-36.5 140,-.5 33,-.5\" stroke=\"#000000\"/>\n<text fill=\"#000000\" font-family=\"Times,serif\" font-size=\"14.00\" text-anchor=\"middle\" x=\"86.5\" y=\"-14.8\">dense_6: Dense</text>\n</g>\n<!-- 140396073728208&#45;&gt;140396073782912 -->\n<g class=\"edge\" id=\"edge3\">\n<title>140396073728208-&gt;140396073782912</title>\n<path d=\"M86.5,-73.4551C86.5,-65.3828 86.5,-55.6764 86.5,-46.6817\" fill=\"none\" stroke=\"#000000\"/>\n<polygon fill=\"#000000\" points=\"90.0001,-46.5903 86.5,-36.5904 83.0001,-46.5904 90.0001,-46.5903\" stroke=\"#000000\"/>\n</g>\n</g>\n</svg>"
          },
          "metadata": {
            "tags": []
          },
          "execution_count": 69
        }
      ]
    },
    {
      "cell_type": "code",
      "metadata": {
        "id": "-gD2DdjDz_nr",
        "colab_type": "code",
        "colab": {}
      },
      "source": [
        ""
      ],
      "execution_count": 0,
      "outputs": []
    }
  ]
}